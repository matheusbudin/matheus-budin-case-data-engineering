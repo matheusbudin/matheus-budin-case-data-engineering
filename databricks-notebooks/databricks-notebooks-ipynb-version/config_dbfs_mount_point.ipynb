{
 "cells": [
  {
   "cell_type": "markdown",
   "metadata": {
    "application/vnd.databricks.v1+cell": {
     "cellMetadata": {},
     "inputWidgets": {},
     "nuid": "c455a54b-69e5-4ff7-a7c1-af36a72c6e44",
     "showTitle": false,
     "tableResultSettingsMap": {},
     "title": ""
    }
   },
   "source": [
    "###Creating your DBFS mount for data storage\n",
    "1. Create ADLS Gen2 Storage account\n",
    "2. Create storage container in your storage account\n",
    "3. Create Azure service principal and secret\n",
    "4. Grant access to service proncipal for storage account\n",
    "5. Mount storage container"
   ]
  },
  {
   "cell_type": "markdown",
   "metadata": {
    "application/vnd.databricks.v1+cell": {
     "cellMetadata": {},
     "inputWidgets": {},
     "nuid": "846ec198-5b22-4657-b785-6caa987e98f2",
     "showTitle": false,
     "tableResultSettingsMap": {},
     "title": ""
    }
   },
   "source": [
    "####1. Create ADLS Gen2 Storage account\n",
    "* Click \"Create a resource\" on your Azure portal home page\n",
    "* Search for \"Storage account\" and click the create button\n",
    "* Create a storage account using the following\n",
    "    * Choose an appropriate subscription\n",
    "    * Select an existing or Create a new Resource group\n",
    "    * Choose a unique storage account name Ex: (mystorageaccount)\n",
    "    * Choose a region (Choose the same region where your Databricks service is created)\n",
    "    * Select performance tier (Standard tier is good enough for learning)\n",
    "    * Choose storage redundency (LRS is good enough for learning)\n",
    "    * Click Advanced button to move to the next step\n",
    "    * Select \"Enable hierarchical namespace\" on the Advanced tab\n",
    "    * Click \"Review\" button\n",
    "    * Click the \"Create\" button after reviewing your settings\n"
   ]
  },
  {
   "cell_type": "markdown",
   "metadata": {
    "application/vnd.databricks.v1+cell": {
     "cellMetadata": {},
     "inputWidgets": {},
     "nuid": "325a9808-ce8d-4d09-a443-64e5fa9a58df",
     "showTitle": false,
     "tableResultSettingsMap": {},
     "title": ""
    }
   },
   "source": [
    "####2. Create storage container in your storage account\n",
    "* Go to your Azure storage account page\n",
    "* Select \"Containers\" from the left side menu\n",
    "* Click \"+ Container\" button from the top menu\n",
    "* Give a name to your containe (Ex dbfs-container)\n",
    "* Click the \"Create\" button"
   ]
  },
  {
   "cell_type": "markdown",
   "metadata": {
    "application/vnd.databricks.v1+cell": {
     "cellMetadata": {},
     "inputWidgets": {},
     "nuid": "c333c2ce-bbe8-4801-929f-c09c28503636",
     "showTitle": false,
     "tableResultSettingsMap": {},
     "title": ""
    }
   },
   "source": [
    "####3. Create Azure service principal and secret\n",
    "* Go to Azure Active Directory Service page in your Azure account (Azure Active Directory is now Microsoft Entra ID)\n",
    "* Select \"App registrations\" from the left side menu\n",
    "* Click (+ New registration) from the top menu\n",
    "* Give a name to your service principal (Ex databricks-app-principal)\n",
    "* Click the \"Register\" button\n",
    "* Service principal will be created and details will be shown on the service principal page\n",
    "* Copy \"Application (client) ID\" and \"Directory (tenant) ID\" values. You will need them later\n",
    "* Choose \"Certificates & secrets\" from the left menu\n",
    "* Click \"+ New client secret\" on the secrets page\n",
    "* Enter a description (Ex databricks-app-principal-secret)\n",
    "* Select an expiry (Ex 3 Months)\n",
    "* Click the \"Add\" button\n",
    "* Secret will be created and shown on the page\n",
    "* Copy the Secret value. You will need it later\n",
    "\n"
   ]
  },
  {
   "cell_type": "markdown",
   "metadata": {
    "application/vnd.databricks.v1+cell": {
     "cellMetadata": {},
     "inputWidgets": {},
     "nuid": "c5c87286-ac3b-4234-b58d-a28025bc5ba5",
     "showTitle": false,
     "tableResultSettingsMap": {},
     "title": ""
    }
   },
   "source": [
    "####4. Grant access to service proncipal for storage account\n",
    "* Go to your storage account page\n",
    "* Click \"Access control (IAM)\" from the left menu\n",
    "* Click the \"+ Add\" button and choose \"Add role assignment\"\n",
    "* Search for \"Storage Blob Data Contributor\" role and select it\n",
    "* Click \"Next\" button\n",
    "* Click the \"+ Select members\"\n",
    "* Search for your Databricks service principal (Ex databricks-app-principal) and select it\n",
    "* Clcik \"Select\" button\n",
    "* Click \"Review + assign\" button twice"
   ]
  },
  {
   "cell_type": "markdown",
   "metadata": {
    "application/vnd.databricks.v1+cell": {
     "cellMetadata": {},
     "inputWidgets": {},
     "nuid": "69572c62-468d-4772-914b-7d50b3b7f972",
     "showTitle": false,
     "tableResultSettingsMap": {},
     "title": ""
    }
   },
   "source": [
    "####5. Mount storage container"
   ]
  },
  {
   "cell_type": "markdown",
   "metadata": {
    "application/vnd.databricks.v1+cell": {
     "cellMetadata": {},
     "inputWidgets": {},
     "nuid": "90de3347-6ee7-409a-87c4-2fdfb6195a32",
     "showTitle": false,
     "tableResultSettingsMap": {},
     "title": ""
    }
   },
   "source": [
    "#####5.1 Define necessory variables"
   ]
  },
  {
   "cell_type": "markdown",
   "metadata": {
    "application/vnd.databricks.v1+cell": {
     "cellMetadata": {},
     "inputWidgets": {},
     "nuid": "9e7a1817-0596-4b97-94f8-79674b2b79de",
     "showTitle": false,
     "tableResultSettingsMap": {},
     "title": ""
    }
   },
   "source": [
    "# IMPORTANT: Protect your sensitive access data and variables!:"
   ]
  },
  {
   "cell_type": "code",
   "execution_count": 0,
   "metadata": {
    "application/vnd.databricks.v1+cell": {
     "cellMetadata": {},
     "inputWidgets": {},
     "nuid": "488bbda4-1296-473e-aa5e-6e850e06704f",
     "showTitle": false,
     "tableResultSettingsMap": {},
     "title": ""
    }
   },
   "outputs": [],
   "source": [
    "import os"
   ]
  },
  {
   "cell_type": "code",
   "execution_count": 0,
   "metadata": {
    "application/vnd.databricks.v1+cell": {
     "cellMetadata": {},
     "inputWidgets": {},
     "nuid": "ed2f4413-ad90-4e3b-99e0-9f9ef8e381d9",
     "showTitle": false,
     "tableResultSettingsMap": {},
     "title": ""
    }
   },
   "outputs": [],
   "source": [
    "storage_account_name = os.getenv(\"STORAGE_ACCOUNT_NAME\")\n",
    "container_name = \"api-pipeline\"\n",
    "mount_point = \"files\"\n",
    "client_id = os.getenv(\"CLIENT_ID\")\n",
    "tenant_id = os.getenv(\"TENANT_ID\")\n",
    "client_secret = os.getenv(\"CLIENT_SECRET_VALUE\")"
   ]
  },
  {
   "cell_type": "markdown",
   "metadata": {
    "application/vnd.databricks.v1+cell": {
     "cellMetadata": {},
     "inputWidgets": {},
     "nuid": "0cfc9522-166f-4f6b-90ce-4e9e53a5c30b",
     "showTitle": false,
     "tableResultSettingsMap": {},
     "title": ""
    }
   },
   "source": [
    "#####5.2 Define mount configs\n",
    "You can follow the instruction and code sample from below documentation page\n",
    "\n",
    "https://learn.microsoft.com/en-us/azure/databricks/dbfs/mounts#--mount-adls-gen2-or-blob-storage-with-abfs"
   ]
  },
  {
   "cell_type": "code",
   "execution_count": 0,
   "metadata": {
    "application/vnd.databricks.v1+cell": {
     "cellMetadata": {},
     "inputWidgets": {},
     "nuid": "c34d37ab-1146-47ca-a7cd-a4545d7cc8c5",
     "showTitle": false,
     "tableResultSettingsMap": {},
     "title": ""
    }
   },
   "outputs": [],
   "source": [
    "configs = {\"fs.azure.account.auth.type\": \"OAuth\",\n",
    "        \"fs.azure.account.oauth.provider.type\": \"org.apache.hadoop.fs.azurebfs.oauth2.ClientCredsTokenProvider\",\n",
    "        \"fs.azure.account.oauth2.client.id\": f\"{client_id}\",\n",
    "        \"fs.azure.account.oauth2.client.secret\": f\"{client_secret}\",\n",
    "        \"fs.azure.account.oauth2.client.endpoint\": f\"https://login.microsoftonline.com/{tenant_id}/oauth2/token\"}"
   ]
  },
  {
   "cell_type": "markdown",
   "metadata": {
    "application/vnd.databricks.v1+cell": {
     "cellMetadata": {},
     "inputWidgets": {},
     "nuid": "90d951e8-7b65-4e7b-97a0-6d675861cfec",
     "showTitle": false,
     "tableResultSettingsMap": {},
     "title": ""
    }
   },
   "source": [
    "#####5.3 Mount the container"
   ]
  },
  {
   "cell_type": "code",
   "execution_count": 0,
   "metadata": {
    "application/vnd.databricks.v1+cell": {
     "cellMetadata": {},
     "inputWidgets": {},
     "nuid": "e6f20766-9986-421d-a215-b875b9abc790",
     "showTitle": false,
     "tableResultSettingsMap": {},
     "title": ""
    }
   },
   "outputs": [],
   "source": [
    "dbutils.fs.mount(\n",
    "  source = f\"abfss://{container_name}@{storage_account_name}.dfs.core.windows.net/\",\n",
    "  mount_point = f\"/mnt/{mount_point}\",\n",
    "  extra_configs = configs)"
   ]
  },
  {
   "cell_type": "markdown",
   "metadata": {
    "application/vnd.databricks.v1+cell": {
     "cellMetadata": {},
     "inputWidgets": {},
     "nuid": "81efe793-14bc-4e62-9c85-65a728d0dd3e",
     "showTitle": false,
     "tableResultSettingsMap": {},
     "title": ""
    }
   },
   "source": [
    "#####5.4. List contents of your mount point"
   ]
  },
  {
   "cell_type": "code",
   "execution_count": 0,
   "metadata": {
    "application/vnd.databricks.v1+cell": {
     "cellMetadata": {},
     "inputWidgets": {},
     "nuid": "6c0ad4d1-51c1-47fe-85b5-aba3fcc2b6e3",
     "showTitle": false,
     "tableResultSettingsMap": {},
     "title": ""
    }
   },
   "outputs": [],
   "source": [
    "%fs\n",
    "ls /mnt/files/"
   ]
  },
  {
   "cell_type": "markdown",
   "metadata": {
    "application/vnd.databricks.v1+cell": {
     "cellMetadata": {},
     "inputWidgets": {},
     "nuid": "d0ba64fa-82e5-4ade-a531-28860f9de144",
     "showTitle": false,
     "tableResultSettingsMap": {},
     "title": ""
    }
   },
   "source": [
    "#####5.5. Upload your sample data folder to your mounted location"
   ]
  },
  {
   "cell_type": "markdown",
   "metadata": {
    "application/vnd.databricks.v1+cell": {
     "cellMetadata": {},
     "inputWidgets": {},
     "nuid": "e67e8985-0a5c-4454-9338-1cc0a8e456be",
     "showTitle": false,
     "tableResultSettingsMap": {},
     "title": ""
    }
   },
   "source": [
    "#####5.6. List contents of your mount point"
   ]
  },
  {
   "cell_type": "code",
   "execution_count": 0,
   "metadata": {
    "application/vnd.databricks.v1+cell": {
     "cellMetadata": {},
     "inputWidgets": {},
     "nuid": "d5840604-9db6-4e9d-95b2-2d4ba63bdb2b",
     "showTitle": false,
     "tableResultSettingsMap": {},
     "title": ""
    }
   },
   "outputs": [],
   "source": [
    "%fs\n",
    "ls /mnt/files"
   ]
  },
  {
   "cell_type": "markdown",
   "metadata": {
    "application/vnd.databricks.v1+cell": {
     "cellMetadata": {},
     "inputWidgets": {},
     "nuid": "f3b1131e-5428-40a9-9771-38ee0f07fd99",
     "showTitle": false,
     "tableResultSettingsMap": {},
     "title": ""
    }
   },
   "source": [
    "#####5.7. Unmount /mnt/files directory"
   ]
  },
  {
   "cell_type": "code",
   "execution_count": 0,
   "metadata": {
    "application/vnd.databricks.v1+cell": {
     "cellMetadata": {},
     "inputWidgets": {},
     "nuid": "e1be086d-fa4a-470e-aba7-4a99f9d38073",
     "showTitle": false,
     "tableResultSettingsMap": {},
     "title": ""
    }
   },
   "outputs": [],
   "source": [
    "# if you want to unmount your directory\n",
    "# %fs\n",
    "# unmount /mnt/files"
   ]
  }
 ],
 "metadata": {
  "application/vnd.databricks.v1+notebook": {
   "dashboards": [],
   "environmentMetadata": null,
   "language": "python",
   "notebookMetadata": {
    "pythonIndentUnit": 4
   },
   "notebookName": "config_dbfs_mount_point",
   "widgets": {}
  },
  "language_info": {
   "name": "python"
  }
 },
 "nbformat": 4,
 "nbformat_minor": 0
}
